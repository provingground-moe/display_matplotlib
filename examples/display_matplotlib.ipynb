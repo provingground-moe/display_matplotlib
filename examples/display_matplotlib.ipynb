{
 "cells": [
  {
   "cell_type": "code",
   "execution_count": 2,
   "metadata": {
    "collapsed": false
   },
   "outputs": [],
   "source": [
    "#%matplotlib qt\n",
    "#%gui qt\n",
    "\n",
    "#%matplotlib osx\n",
    "\n",
    "%matplotlib ipympl\n",
    "#%config InlineBackend.figure_format = 'retina'\n",
    "\n",
    "import lsst.afw.display as afwDisplay\n",
    "afwDisplay.setDefaultBackend(\"matplotlib\")"
   ]
  },
  {
   "cell_type": "code",
   "execution_count": 3,
   "metadata": {
    "collapsed": false,
    "scrolled": false
   },
   "outputs": [
    {
     "data": {
      "application/vnd.jupyter.widget-view+json": {
       "model_id": "",
       "version_major": 2,
       "version_minor": 0
      },
      "text/plain": [
       "FigureCanvasNbAgg()"
      ]
     },
     "metadata": {},
     "output_type": "display_data"
    }
   ],
   "source": [
    "import lsst.afw.geom as afwGeom\n",
    "import lsst.afw.image as afwImage\n",
    "import lsst.afw.math as afwMath\n",
    "\n",
    "disp = afwDisplay.Display(0)\n",
    "\n",
    "im = afwImage.MaskedImageF(100, 50)\n",
    "afwMath.randomGaussianImage(im.image, afwMath.Random())\n",
    "im.setXY0(10, 5)\n",
    "im.image[0, 0, afwImage.LOCAL] = 20\n",
    "im.mask[10, 5] = im.mask.getPlaneBitMask(\"EDGE\")\n",
    "im.image[-1, -1, afwImage.LOCAL] = 30\n",
    "im.image[afwGeom.BoxI(afwGeom.PointI(50, 22), afwGeom.ExtentI(1, 2))] = 40\n",
    "im.mask[50, 22] = 0x5\n",
    "\n",
    "disp.scale(\"asinh\", \"zscale\", Q=8)\n",
    "title=\"test\"\n",
    "    \n",
    "disp.mtv(im, title=title)"
   ]
  },
  {
   "cell_type": "code",
   "execution_count": 4,
   "metadata": {
    "collapsed": false
   },
   "outputs": [
    {
     "data": {
      "application/vnd.jupyter.widget-view+json": {
       "model_id": "",
       "version_major": 2,
       "version_minor": 0
      },
      "text/plain": [
       "FigureCanvasNbAgg()"
      ]
     },
     "metadata": {},
     "output_type": "display_data"
    }
   ],
   "source": [
    "disp = afwDisplay.Display(reopenPlot=True)\n",
    "\n",
    "if True:\n",
    "    disp.scale(\"asinh\", \"zscale\", Q=8)\n",
    "else:\n",
    "    disp.scale(\"linear\", \"zscale\")\n",
    "disp.mtv(im, title=title)"
   ]
  },
  {
   "cell_type": "code",
   "execution_count": 5,
   "metadata": {
    "collapsed": false,
    "scrolled": false
   },
   "outputs": [],
   "source": [
    "disp.dot('o', 52, 23, ctype='RED')\n",
    "\n",
    "disp.dot('hello world', 52, 23)"
   ]
  },
  {
   "cell_type": "code",
   "execution_count": 6,
   "metadata": {
    "collapsed": false,
    "scrolled": false
   },
   "outputs": [],
   "source": [
    "disp.pan(55, 23)\n",
    "#disp.pan(*(im.getXY0() + 0.5*im.getDimensions()))\n",
    "disp.dot('+', 55, 23, ctype='blue')\n",
    "disp.zoom(4)"
   ]
  },
  {
   "cell_type": "code",
   "execution_count": 7,
   "metadata": {
    "collapsed": false
   },
   "outputs": [],
   "source": [
    "disp.line([(50, 20), (58, 20), (58, 26), (50, 26), (50, 20)], ctype='cyan')"
   ]
  },
  {
   "cell_type": "code",
   "execution_count": 8,
   "metadata": {
    "collapsed": false
   },
   "outputs": [],
   "source": [
    "disp.erase()"
   ]
  },
  {
   "cell_type": "code",
   "execution_count": 9,
   "metadata": {
    "collapsed": false
   },
   "outputs": [
    {
     "data": {
      "application/vnd.jupyter.widget-view+json": {
       "model_id": "832e72ed61cf47ee9859c0a6bec58518",
       "version_major": 2,
       "version_minor": 0
      },
      "text/plain": [
       "FigureCanvasNbAgg()"
      ]
     },
     "metadata": {},
     "output_type": "display_data"
    }
   ],
   "source": [
    "disp2 = afwDisplay.Display(2, reopenPlot=True)"
   ]
  },
  {
   "cell_type": "code",
   "execution_count": 10,
   "metadata": {
    "collapsed": true
   },
   "outputs": [],
   "source": [
    "disp2.mtv(afwImage.ImageF(10, 20))\n",
    "disp2.dot('o', 4, 5)"
   ]
  },
  {
   "cell_type": "code",
   "execution_count": 11,
   "metadata": {
    "collapsed": false
   },
   "outputs": [
    {
     "name": "stdout",
     "output_type": "stream",
     "text": [
      "Interacting with display 0; hit q to quit; 1, 2, 4, 8, 9 to zoom\n"
     ]
    },
    {
     "name": "stderr",
     "output_type": "stream",
     "text": [
      "The module://ipympl.backend_nbagg matplotlib backend doesn't support display._getEvent()\n"
     ]
    }
   ],
   "source": [
    "def pan(k, x, y):\n",
    "    disp.pan(x, y)\n",
    "    return False\n",
    "disp._callbacks['a'] = pan\n",
    "\n",
    "for i in (1, 2, 4, 8, 9):\n",
    "    def zoom(k, x, y, z=16 if i == 9 else i):\n",
    "        disp.zoom(z, x, y)\n",
    "        return False\n",
    "\n",
    "    disp._callbacks[str(i)] = zoom\n",
    "\n",
    "disp.zoom(4)\n",
    "print(\"Interacting with display 0; hit q to quit; 1, 2, 4, 8, 9 to zoom\")\n",
    "disp.interact()"
   ]
  },
  {
   "cell_type": "markdown",
   "metadata": {},
   "source": [
    "### Test ignoring mask planes when setting the scale\n",
    "N.b. doesn't currently work with `zscale`"
   ]
  },
  {
   "cell_type": "code",
   "execution_count": 16,
   "metadata": {},
   "outputs": [
    {
     "data": {
      "application/vnd.jupyter.widget-view+json": {
       "model_id": "9518ae12903a42449f82b43e9939ab3c",
       "version_major": 2,
       "version_minor": 0
      },
      "text/plain": [
       "FigureCanvasNbAgg()"
      ]
     },
     "metadata": {},
     "output_type": "display_data"
    }
   ],
   "source": [
    "im = afwImage.MaskedImageF(100, 50)\n",
    "afwMath.randomGaussianImage(im.image, afwMath.Random())\n",
    "\n",
    "sim = im[afwGeom.BoxI(afwGeom.PointI(0, 0), afwGeom.ExtentI(im.getWidth()//2, im.getHeight()))]\n",
    "sim.image[:] = 100\n",
    "sim.mask[:] = afwImage.Mask.getPlaneBitMask(\"BAD\")\n",
    "\n",
    "disp = afwDisplay.Display(reopenPlot=True)\n",
    "\n",
    "disp.scale('asinh', 'minmax', maskedPixels=\"BAD\")\n",
    "disp.mtv(im)"
   ]
  }
 ],
 "metadata": {
  "anaconda-cloud": {},
  "kernelspec": {
   "display_name": "LSST",
   "language": "python",
   "name": "lsst"
  },
  "language_info": {
   "codemirror_mode": {
    "name": "ipython",
    "version": 3
   },
   "file_extension": ".py",
   "mimetype": "text/x-python",
   "name": "python",
   "nbconvert_exporter": "python",
   "pygments_lexer": "ipython3",
   "version": "3.6.6"
  }
 },
 "nbformat": 4,
 "nbformat_minor": 2
}
